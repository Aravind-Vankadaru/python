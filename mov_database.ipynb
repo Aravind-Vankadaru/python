{
 "cells": [
  {
   "cell_type": "code",
   "execution_count": 1,
   "id": "12a8d4c4",
   "metadata": {},
   "outputs": [],
   "source": [
    "import mysql.connector\n",
    "from mysql.connector import Error\n",
    "import pandas as pd"
   ]
  },
  {
   "cell_type": "code",
   "execution_count": 14,
   "id": "c3423c51",
   "metadata": {},
   "outputs": [
    {
     "name": "stdout",
     "output_type": "stream",
     "text": [
      "successful\n"
     ]
    }
   ],
   "source": [
    "try:\n",
    "    connection = mysql.connector.connect(host='localhost',user='root',passwd='Aravind@018')\n",
    "    print('successful')\n",
    "except Error as err:\n",
    "    print(f\"Error: {err}\")"
   ]
  },
  {
   "cell_type": "code",
   "execution_count": null,
   "id": "9ca2e049",
   "metadata": {},
   "outputs": [],
   "source": [
    "cursor = connection.cursor()\n",
    "cursor.execute(\"CREATE DATABASE videoes\")"
   ]
  },
  {
   "cell_type": "code",
   "execution_count": null,
   "id": "8b1afbad",
   "metadata": {},
   "outputs": [],
   "source": [
    "connection = mysql.connector.connect(host='localhost',user='root',passwd='Aravind@018',database=\"videoes\")\n",
    "cursor = connection.cursor()"
   ]
  },
  {
   "cell_type": "code",
   "execution_count": 5,
   "id": "30dd9c5a",
   "metadata": {},
   "outputs": [],
   "source": [
    "data = \"\"\"\n",
    "insert into movie values\n",
    "('inception','leanadro','angelia','christopher-nolan','2001-12-05'),\n",
    "('bahubali','prabhas','anushka','rajamouli','2016-10-10'),\n",
    "('bahubali2','prabhas','anushka','rajamouli','2018-05-05'),\n",
    "('pushpa','aa','rashmika','sukumar','2020-11-07'),\n",
    "('rrr','ram-ntr','aliabhatt','rajamouli','2022-08-15');\n",
    "\"\"\"\n",
    "cursor.execute(data)\n",
    "connection.commit()"
   ]
  },
  {
   "cell_type": "code",
   "execution_count": 6,
   "id": "2af84416",
   "metadata": {},
   "outputs": [],
   "source": [
    "q = \"\"\"Select * from movie;\"\"\""
   ]
  },
  {
   "cell_type": "code",
   "execution_count": 7,
   "id": "38a861de",
   "metadata": {},
   "outputs": [],
   "source": [
    "cursor.execute(q)\n",
    "result = cursor.fetchall()"
   ]
  },
  {
   "cell_type": "code",
   "execution_count": 8,
   "id": "cd12b516",
   "metadata": {},
   "outputs": [
    {
     "name": "stdout",
     "output_type": "stream",
     "text": [
      "[('bahubali', 'prabhas', 'anushka', 'rajamouli', datetime.date(2016, 10, 10)), ('bahubali2', 'prabhas', 'anushka', 'rajamouli', datetime.date(2018, 5, 5)), ('inception', 'leanadro', 'angelia', 'christopher-nolan', datetime.date(2001, 12, 5)), ('pushpa', 'aa', 'rashmika', 'sukumar', datetime.date(2020, 11, 7)), ('rrr', 'ram-ntr', 'aliabhatt', 'rajamouli', datetime.date(2022, 8, 15))]\n"
     ]
    }
   ],
   "source": [
    "print(result)"
   ]
  },
  {
   "cell_type": "code",
   "execution_count": 9,
   "id": "ed062d67",
   "metadata": {},
   "outputs": [],
   "source": [
    "q2 = \"\"\"select * from movie where actor='prabhas';\"\"\""
   ]
  },
  {
   "cell_type": "code",
   "execution_count": 12,
   "id": "d38c23cf",
   "metadata": {},
   "outputs": [],
   "source": [
    "cursor.execute(q2)\n",
    "result = cursor.fetchall()"
   ]
  },
  {
   "cell_type": "code",
   "execution_count": 13,
   "id": "b6f909c2",
   "metadata": {},
   "outputs": [
    {
     "name": "stdout",
     "output_type": "stream",
     "text": [
      "[('bahubali', 'prabhas', 'anushka', 'rajamouli', datetime.date(2016, 10, 10)), ('bahubali2', 'prabhas', 'anushka', 'rajamouli', datetime.date(2018, 5, 5))]\n"
     ]
    }
   ],
   "source": [
    "print(result)"
   ]
  },
  {
   "cell_type": "code",
   "execution_count": null,
   "id": "4c3641e1",
   "metadata": {},
   "outputs": [],
   "source": []
  }
 ],
 "metadata": {
  "kernelspec": {
   "display_name": "Python 3 (ipykernel)",
   "language": "python",
   "name": "python3"
  },
  "language_info": {
   "codemirror_mode": {
    "name": "ipython",
    "version": 3
   },
   "file_extension": ".py",
   "mimetype": "text/x-python",
   "name": "python",
   "nbconvert_exporter": "python",
   "pygments_lexer": "ipython3",
   "version": "3.9.7"
  }
 },
 "nbformat": 4,
 "nbformat_minor": 5
}
